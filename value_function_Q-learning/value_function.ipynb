{
 "cells": [
  {
   "cell_type": "markdown",
   "id": "6e432ebb",
   "metadata": {},
   "source": [
    "# Q Learning based on value function\n",
    "We build a maze environment to train Q-learning model based on value function."
   ]
  },
  {
   "cell_type": "code",
   "execution_count": 62,
   "id": "3094a7b6",
   "metadata": {},
   "outputs": [],
   "source": [
    "import numpy as np\n",
    "from tqdm import tqdm\n",
    "import matplotlib.pyplot as plt\n",
    "import os\n",
    "\n",
    "os.makedirs(\"frame\", exist_ok=True)"
   ]
  },
  {
   "cell_type": "code",
   "execution_count": 61,
   "id": "aabfc8d1",
   "metadata": {},
   "outputs": [],
   "source": [
    "# 动作符号\n",
    "action_symbols = {\n",
    "    0: '↑',  \n",
    "    1: '↓',  \n",
    "    2: '←',  \n",
    "    3: '→',  \n",
    "}\n",
    "\n",
    "# 动作索引\n",
    "actions = {\n",
    "    0: (-1, 0),  # 上\n",
    "    1: (1, 0),   # 下\n",
    "    2: (0, -1),  # 左\n",
    "    3: (0, 1)    # 右\n",
    "}\n",
    "\n",
    "# 迷宫环境设置\n",
    "# maze = np.array([\n",
    "#     [2, -1, -1, 1],\n",
    "#     [0, -1, -1, 0],\n",
    "#     [0, 0, 0, 0],\n",
    "# ])\n",
    "maze = np.array([\n",
    "    [1,0,2],\n",
    "    [0,0,0]\n",
    "])\n",
    "rows, cols = maze.shape\n",
    "start, end = np.argwhere(maze==1)[0], np.argwhere(maze==2)[0]"
   ]
  },
  {
   "cell_type": "code",
   "execution_count": 35,
   "id": "b784090e",
   "metadata": {},
   "outputs": [],
   "source": [
    "def plot_policy_with_maze(Q_value_fn, maze_map, shape=(4, 4), show=False, title=None):\n",
    "    fig, ax = plt.subplots()\n",
    "    ax.set_xticks(np.arange(shape[1]+1)-0.5, minor=True)\n",
    "    ax.set_yticks(np.arange(shape[0]+1)-0.5, minor=True)\n",
    "    ax.grid(which=\"minor\", color=\"black\", linewidth=1)\n",
    "    ax.tick_params(which=\"both\", bottom=False, left=False, labelbottom=False, labelleft=False)\n",
    "\n",
    "    if title is None:\n",
    "        ax.set_title(\"Maze Policy\")\n",
    "    else:\n",
    "        ax.set_title(title)\n",
    "\n",
    "    for i in range(shape[0]):\n",
    "        for j in range(shape[1]):\n",
    "            if maze_map[i, j] == -1:\n",
    "                ax.add_patch(plt.Rectangle((j-0.5, i-0.5), 1, 1, color='gold'))\n",
    "            else:\n",
    "                if maze_map[i, j] == 0:\n",
    "                    ax.add_patch(plt.Rectangle((j-0.5, i-0.5), 1, 1, color='skyblue'))\n",
    "                elif maze_map[i, j] == 2:\n",
    "                    ax.add_patch(plt.Rectangle((j-0.5, i-0.5), 1, 1, color='red'))\n",
    "                else:\n",
    "                    ax.add_patch(plt.Rectangle((j-0.5, i-0.5), 1, 1, color='green'))\n",
    "\n",
    "                state = (i, j)\n",
    "                q_values = [Q_value_fn(state, a) for a in range(4)]\n",
    "                best_action = np.argmax(q_values)\n",
    "                ax.text(j, i, action_symbols[best_action], ha='center', va='center', fontsize=20, color='black')\n",
    "\n",
    "    plt.gca().invert_yaxis()\n",
    "    if show:\n",
    "        plt.show()\n",
    "    return fig\n",
    "\n",
    "\n",
    "def plot_q_values_with_maze(Q_value_fn, maze_map, shape=(4, 4)):\n",
    "    max_q = np.zeros(shape)\n",
    "    fig, ax = plt.subplots()\n",
    "    ax.set_title(\"Max Q-Value per State with Maze\")\n",
    "\n",
    "    max_global_q = float('-inf')\n",
    "\n",
    "    for i in range(shape[0]):\n",
    "        for j in range(shape[1]):\n",
    "            if maze_map[i, j] == -1:\n",
    "                max_q[i, j] = 0\n",
    "            else:\n",
    "                q_values = [Q_value_fn((i, j), a) for a in range(4)]\n",
    "                max_q[i, j] = max(q_values)\n",
    "                max_global_q = max(max_global_q, max_q[i, j])\n",
    "\n",
    "    for i in range(shape[0]):\n",
    "        for j in range(shape[1]):\n",
    "            if maze_map[i, j] == -1:\n",
    "                color = 'gold'\n",
    "            else:\n",
    "                norm_val = max_q[i, j] / max_global_q if max_global_q > 0 else 0\n",
    "                color = plt.cm.Blues(norm_val)\n",
    "                ax.text(j, i, f\"{max_q[i, j]:.2f}\", ha='center', va='center', color='black')\n",
    "\n",
    "            ax.add_patch(plt.Rectangle((j-0.5, i-0.5), 1, 1, color=color))\n",
    "\n",
    "    ax.set_xticks(np.arange(shape[1]+1)-0.5, minor=True)\n",
    "    ax.set_yticks(np.arange(shape[0]+1)-0.5, minor=True)\n",
    "    ax.grid(which=\"minor\", color=\"black\", linewidth=1)\n",
    "    ax.tick_params(which=\"both\", bottom=False, left=False, labelbottom=False, labelleft=False)\n",
    "    plt.gca().invert_yaxis()\n",
    "    plt.show()\n"
   ]
  },
  {
   "cell_type": "code",
   "execution_count": null,
   "id": "de8a126a",
   "metadata": {},
   "outputs": [
    {
     "name": "stderr",
     "output_type": "stream",
     "text": [
      "100%|██████████| 5000/5000 [00:02<00:00, 2093.75it/s]\n"
     ]
    },
    {
     "data": {
      "image/png": "[encoded data removed]",
      "text/plain": [
       "<Figure size 640x480 with 1 Axes>"
      ]
     },
     "metadata": {},
     "output_type": "display_data"
    },
    {
     "data": {
      "image/png": "[encoded data removed]",
      "text/plain": [
       "<Figure size 640x480 with 1 Axes>"
      ]
     },
     "execution_count": 63,
     "metadata": {},
     "output_type": "execute_result"
    }
   ],
   "source": [
    "# Q-Learning参数\n",
    "alpha = 0.1   # 学习率\n",
    "gamma = 0.9   # 折扣因子\n",
    "epsilon = 0.1 # 探索概率\n",
    "\n",
    "# Q table\n",
    "def phi(state, action_index):\n",
    "    feature = np.array((state[0]**2, state[1]**2, state[0]*state[1], state[0], state[1], 0, 0, 0, 0, 1))\n",
    "    feature[5+action_index] = 1\n",
    "    return feature\n",
    "\n",
    "theta = np.zeros(len(phi([0,0],0)))\n",
    "\n",
    "def Q_value(state, action_index):\n",
    "    return np.dot(phi(state, action_index), theta)\n",
    "\n",
    "# 训练过程\n",
    "max_count = 40\n",
    "success_episodes = []\n",
    "\n",
    "for episode in tqdm(range(5000)):\n",
    "    state = start\n",
    "    count = 0\n",
    "    success = False\n",
    "\n",
    "    while not (state==end).all() and count < max_count:\n",
    "        # ε-greedy 策略选择动作\n",
    "        if np.random.rand() < epsilon:\n",
    "            action_index = np.random.choice([0, 1, 2, 3])\n",
    "        else:\n",
    "            q_values = [Q_value(state, a) for a in range(4)]\n",
    "            action_index = np.argmax(q_values)\n",
    "\n",
    "        action = actions[action_index]\n",
    "        next_state = (state[0] + action[0], state[1] + action[1])\n",
    "\n",
    "        # 判断是否合法移动\n",
    "        if 0 <= next_state[0] < rows and 0 <= next_state[1] < cols and maze[next_state[0], next_state[1]] != -1:\n",
    "            reward = 1 if (next_state == end).all() else 0\n",
    "            success = success or (next_state == end).all()\n",
    "            \n",
    "            next_q_values = [Q_value(next_state, a) for a in range(4)]\n",
    "            target = reward + gamma * max(next_q_values)\n",
    "        else:\n",
    "            target = -1  # 非法移动惩罚\n",
    "            next_state = state  # stay in place\n",
    "\n",
    "        predict = Q_value(state, action_index)\n",
    "        delta = target - predict\n",
    "\n",
    "        theta += alpha * delta * phi(state, action_index)\n",
    "        state = next_state\n",
    "        count += 1\n",
    "    \n",
    "        if success:\n",
    "            success_episodes.append(episode)\n",
    "            # epsilon = 0.1  # 收敛后降低探索率\n"
   ]
  },
  {
   "cell_type": "markdown",
   "id": "631cc8e1",
   "metadata": {},
   "source": [
    "## Optional"
   ]
  },
  {
   "cell_type": "code",
   "execution_count": null,
   "id": "5348d7eb",
   "metadata": {},
   "outputs": [
    {
     "name": "stdout",
     "output_type": "stream",
     "text": [
      "Action index: 0\n",
      "[-0.9999997604365302, 0.8348536577697865, 10.651069524740908]\n",
      "[-0.8803056755114456, -1.201280063481215, 6.459107997313821]\n",
      "Action index: 1\n",
      "[-1.0678527275129344, 0.7670006906933822, 10.583216557664505]\n",
      "[-0.9481586425878498, -1.2691330305576194, 6.391255030237417]\n",
      "Action index: 2\n",
      "[-1.012106932655366, 0.8227464855509505, 10.638962352522073]\n",
      "[-0.8924128477302815, -1.213387235700051, 6.447000825094985]\n",
      "Action index: 3\n",
      "[-1.00828324494627, 0.8265701732600466, 10.642786040231169]\n",
      "[-0.8885891600211854, -1.209563547990955, 6.450824512804081]\n"
     ]
    }
   ],
   "source": [
    "def Q_value_print():\n",
    "    for a in range(4):\n",
    "        print(f\"Action index: {a}\")\n",
    "        for i in range(maze.shape[0]):\n",
    "            print([Q_value([i, j], a).item() for j in range(maze.shape[1])])\n",
    "\n",
    "Q_value_print()"
   ]
  },
  {
   "cell_type": "code",
   "execution_count": null,
   "id": "74814e95",
   "metadata": {},
   "outputs": [],
   "source": [
    "# Visualize successful rollouts\n",
    "plt.figure(figsize=(12, 4))\n",
    "plt.scatter(success_episodes, [1]*len(success_episodes), marker='|', color='green')\n",
    "plt.yticks([0, 1], [\"Failure\", \"Success\"])\n",
    "plt.xlabel(\"Episode Index\")\n",
    "plt.title(\"Episode of successful arrival, reward=0 and epsilon=0.5\")\n",
    "plt.grid(True, axis='x')\n",
    "plt.tight_layout()\n",
    "plt.show()"
   ]
  },
  {
   "cell_type": "code",
   "execution_count": null,
   "id": "369d8886",
   "metadata": {},
   "outputs": [
    {
     "data": {
      "image/png": "[encoded data removed]",
      "text/plain": [
       "<Figure size 640x480 with 1 Axes>"
      ]
     },
     "metadata": {},
     "output_type": "display_data"
    }
   ],
   "source": [
    "# Visualize policy\n",
    "fig = plot_policy_with_maze(Q_value, maze, maze.shape, show=True, title=f\"Success: {success}\")\n",
    "fig.savefig(f\"images.png\")\n",
    "plt.close(fig)"
   ]
  },
  {
   "cell_type": "code",
   "execution_count": null,
   "id": "0e9b707b",
   "metadata": {},
   "outputs": [],
   "source": [
    "# Visualize Q value\n",
    "plot_q_values_with_maze(Q, maze, maze.shape)"
   ]
  }
 ],
 "metadata": {
  "kernelspec": {
   "display_name": "rl",
   "language": "python",
   "name": "python3"
  },
  "language_info": {
   "codemirror_mode": {
    "name": "ipython",
    "version": 3
   },
   "file_extension": ".py",
   "mimetype": "text/x-python",
   "name": "python",
   "nbconvert_exporter": "python",
   "pygments_lexer": "ipython3",
   "version": "3.10.18"
  }
 },
 "nbformat": 4,
 "nbformat_minor": 5
}
